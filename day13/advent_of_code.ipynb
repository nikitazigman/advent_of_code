{
 "cells": [
  {
   "cell_type": "code",
   "execution_count": null,
   "metadata": {},
   "outputs": [],
   "source": [
    "from pathlib import Path\n",
    "\n",
    "file = Path(__name__).resolve().parent.joinpath(\"input.txt\")\n",
    "\n",
    "data = []\n",
    "with open(file, \"r\") as f:\n",
    "    data = f.read()\n",
    "\n",
    "data = data.split(\"\\n\")"
   ]
  },
  {
   "attachments": {},
   "cell_type": "markdown",
   "metadata": {},
   "source": [
    "### the code is a mess. That how your code looks like when you write it during the meeting :D "
   ]
  },
  {
   "cell_type": "code",
   "execution_count": null,
   "metadata": {},
   "outputs": [],
   "source": [
    "def parse_line(line: str) -> list:\n",
    "    context = {}\n",
    "    exec(f\"res = {line}\", context)\n",
    "    return context[\"res\"]\n",
    "\n",
    "\n",
    "dataset: list[list[int | list]] = []\n",
    "for line_idx in range(0, len(data), 3):\n",
    "    dataset.append({})\n",
    "\n",
    "    left_signal = parse_line(data[line_idx])\n",
    "    right_signal = parse_line(data[line_idx + 1])\n",
    "\n",
    "    dataset[-1][\"l\"] = left_signal\n",
    "    dataset[-1][\"r\"] = right_signal\n"
   ]
  },
  {
   "cell_type": "code",
   "execution_count": null,
   "metadata": {},
   "outputs": [],
   "source": [
    "def check_order(left:list, right:list)->bool:\n",
    "    while True:\n",
    "        try:\n",
    "            l_item = left.pop(0)\n",
    "        except IndexError:\n",
    "            return True\n",
    "        \n",
    "        try:\n",
    "            r_item = right.pop(0)\n",
    "        except IndexError:\n",
    "            return False\n",
    "        \n",
    "        if l_item == r_item:\n",
    "            continue\n",
    "        \n",
    "        if isinstance(l_item, int) and isinstance(r_item, int):\n",
    "\n",
    "            if l_item < r_item:\n",
    "                return True\n",
    "            \n",
    "            return False\n",
    "        \n",
    "        l_item = l_item if isinstance(l_item, list) else [l_item]\n",
    "        r_item = r_item if isinstance(r_item, list) else [r_item]\n",
    "        \n",
    "        return check_order(l_item, r_item)    \n",
    "            \n",
    "\n",
    "right_order = []\n",
    "for idx, pair in enumerate(dataset):\n",
    "    if check_order(pair[\"l\"],pair[\"r\"]):\n",
    "        right_order.append(idx+1)\n",
    "\n",
    "sum(right_order)"
   ]
  },
  {
   "cell_type": "code",
   "execution_count": null,
   "metadata": {},
   "outputs": [],
   "source": [
    "item1 = [[2]]\n",
    "item2 = [[6]]\n",
    "\n",
    "def parse_line(line: str) -> list:\n",
    "    context = {}\n",
    "    exec(f\"res = {line}\", context)\n",
    "    return context[\"res\"]\n",
    "\n",
    "\n",
    "dataset: list[list[int | list]] = []\n",
    "for line_idx in range(0, len(data), 3):\n",
    "    left_signal = parse_line(data[line_idx])\n",
    "    right_signal = parse_line(data[line_idx + 1])\n",
    "\n",
    "    dataset.append(left_signal) \n",
    "    dataset.append(right_signal) \n",
    "\n",
    "dataset.append(item1)\n",
    "dataset.append(item2)"
   ]
  },
  {
   "cell_type": "code",
   "execution_count": null,
   "metadata": {},
   "outputs": [],
   "source": [
    "from copy import deepcopy\n",
    "def check_order(dleft:list, dright:list)->bool:\n",
    "    left = deepcopy(dleft)\n",
    "    right = deepcopy(dright)\n",
    "    l_out, r_out = False, False\n",
    "    while True:\n",
    "        try:\n",
    "            l_item = left.pop(0)\n",
    "        except IndexError:\n",
    "            l_out = True\n",
    "        \n",
    "        try:\n",
    "            r_item = right.pop(0)\n",
    "        except IndexError:\n",
    "            r_out = True\n",
    "        \n",
    "        if l_out and r_out:\n",
    "            return None\n",
    "        \n",
    "        if l_out or r_out:\n",
    "            return l_out\n",
    "        \n",
    "        if l_item == r_item:\n",
    "            continue\n",
    "        \n",
    "        if isinstance(l_item, int) and isinstance(r_item, int):\n",
    "\n",
    "            if l_item < r_item:\n",
    "                return True\n",
    "            \n",
    "            return False\n",
    "        \n",
    "        l_item = l_item if isinstance(l_item, list) else [l_item]\n",
    "        r_item = r_item if isinstance(r_item, list) else [r_item]\n",
    "        \n",
    "        res = check_order(l_item, r_item)\n",
    "        if res is None:\n",
    "            continue\n",
    "        \n",
    "        return res    \n",
    "            \n",
    "\n",
    "for i in range(1,len(dataset)):\n",
    "    for j in range(i,0,-1): \n",
    "        if not check_order(dataset[j-1], dataset[j]):\n",
    "            dataset[j], dataset[j-1] = dataset[j-1], dataset[j]\n",
    "        else: \n",
    "            break\n",
    "            \n",
    "dataset"
   ]
  },
  {
   "cell_type": "code",
   "execution_count": null,
   "metadata": {},
   "outputs": [],
   "source": [
    "(dataset.index(item1)+1)*(dataset.index(item2)+1)"
   ]
  }
 ],
 "metadata": {
  "kernelspec": {
   "display_name": "Python 3 (ipykernel)",
   "language": "python",
   "name": "python3"
  },
  "language_info": {
   "codemirror_mode": {
    "name": "ipython",
    "version": 3
   },
   "file_extension": ".py",
   "mimetype": "text/x-python",
   "name": "python",
   "nbconvert_exporter": "python",
   "pygments_lexer": "ipython3",
   "version": "3.10.6"
  },
  "orig_nbformat": 4,
  "vscode": {
   "interpreter": {
    "hash": "1962a284e9c93543513960a5fc8c9acca9f2fc01827941555af93a8c649114d2"
   }
  }
 },
 "nbformat": 4,
 "nbformat_minor": 2
}
