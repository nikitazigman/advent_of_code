{
 "cells": [
  {
   "cell_type": "code",
   "execution_count": 23,
   "metadata": {},
   "outputs": [],
   "source": [
    "from pathlib import Path\n",
    "\n",
    "file = Path(__name__).resolve().parent.joinpath(\"input.txt\")\n",
    "\n",
    "data = []\n",
    "with open(file, \"r\") as f:\n",
    "    data = f.read()"
   ]
  },
  {
   "cell_type": "code",
   "execution_count": 24,
   "metadata": {},
   "outputs": [
    {
     "data": {
      "text/plain": [
       "(3037, ['q', 's', 'p', 'g', 'b', 'z', 'm', 'j', 'n', 'l', 'r', 'd', 'h', 'v'])"
      ]
     },
     "execution_count": 24,
     "metadata": {},
     "output_type": "execute_result"
    }
   ],
   "source": [
    "buf = list(data[:3])\n",
    "index = None\n",
    "for idx, ch in enumerate(data[3:]):\n",
    "    buf.append(ch)\n",
    "    if len(set(buf)) == 4:\n",
    "        index = idx + 3 + 1\n",
    "        break\n",
    "    buf.pop(0)\n",
    "\n",
    "index, buf"
   ]
  },
  {
   "cell_type": "code",
   "execution_count": null,
   "metadata": {},
   "outputs": [],
   "source": [
    "buf = list(data[:13])\n",
    "index = None\n",
    "for idx, ch in enumerate(data[13:]):\n",
    "    buf.append(ch)\n",
    "    if len(set(buf)) == 14:\n",
    "        index = idx + 13 + 1\n",
    "        break\n",
    "    buf.pop(0)\n",
    "\n",
    "index, buf"
   ]
  }
 ],
 "metadata": {
  "kernelspec": {
   "display_name": "Python 3.10.6 ('venv': venv)",
   "language": "python",
   "name": "python3"
  },
  "language_info": {
   "codemirror_mode": {
    "name": "ipython",
    "version": 3
   },
   "file_extension": ".py",
   "mimetype": "text/x-python",
   "name": "python",
   "nbconvert_exporter": "python",
   "pygments_lexer": "ipython3",
   "version": "3.10.6"
  },
  "orig_nbformat": 4,
  "vscode": {
   "interpreter": {
    "hash": "d7778e074d471e262d3410049dd42331c70c7b6c1795f96e771616c8504ec954"
   }
  }
 },
 "nbformat": 4,
 "nbformat_minor": 2
}
