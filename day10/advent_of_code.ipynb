{
 "cells": [
  {
   "cell_type": "code",
   "execution_count": 19,
   "metadata": {},
   "outputs": [],
   "source": [
    "from pathlib import Path\n",
    "\n",
    "file = Path(__name__).resolve().parent.joinpath(\"test_input.txt\")\n",
    "\n",
    "data = []\n",
    "with open(file, \"r\") as f:\n",
    "    data = f.read()\n",
    "\n",
    "data = data.split(\"\\n\")"
   ]
  },
  {
   "cell_type": "code",
   "execution_count": 18,
   "metadata": {},
   "outputs": [
    {
     "data": {
      "text/plain": [
       "15360"
      ]
     },
     "execution_count": 18,
     "metadata": {},
     "output_type": "execute_result"
    }
   ],
   "source": [
    "class CPU:\n",
    "    comamnds = {\n",
    "        \"noop\": 1,\n",
    "        \"addx\": 2,\n",
    "    }\n",
    "\n",
    "    def __init__(self) -> None:\n",
    "        self.x = 1\n",
    "        self.cycle = 0\n",
    "        self.signal_strength = dict.fromkeys([20, 60, 100, 140, 180, 220], None)\n",
    "\n",
    "    def command(self, command: str, value=0) -> None:\n",
    "        value = int(value)\n",
    "        cycles = self.comamnds[command]\n",
    "\n",
    "        for cycle in range(cycles):\n",
    "            self.cycle += 1\n",
    "            if self.cycle in self.signal_strength:\n",
    "                self.signal_strength[self.cycle] = self.x\n",
    "\n",
    "        self.x += value\n",
    "\n",
    "\n",
    "# data = [\"noop\", \"addx 3\", \"addx -5\"]\n",
    "cpu = CPU()\n",
    "for command in data:\n",
    "    cpu.command(*command.split())\n",
    "\n",
    "sum([key * value for key, value in cpu.signal_strength.items()])\n"
   ]
  },
  {
   "cell_type": "code",
   "execution_count": 26,
   "metadata": {},
   "outputs": [],
   "source": [
    "class SCREEN:\n",
    "    comamnds = {\n",
    "        \"noop\": 1,\n",
    "        \"addx\": 2,\n",
    "    }\n",
    "\n",
    "    def __init__(self) -> None:\n",
    "        self.x = 1\n",
    "        self.cycle = 0\n",
    "        self.row = 0\n",
    "        self.screen = [[],]\n",
    "\n",
    "    def command(self, command: str, value=0) -> None:\n",
    "        value = int(value)\n",
    "        cycles = self.comamnds[command]\n",
    "\n",
    "        for cycle in range(cycles):\n",
    "            self.screen[-1].append(\n",
    "                '#' if abs(self.x - self.cycle%40) <=1 else \".\"\n",
    "            )\n",
    "            \n",
    "            self.cycle += 1\n",
    "            \n",
    "            if self.cycle % 40 == 0:\n",
    "                self.screen.append([])\n",
    "            \n",
    "            \n",
    "\n",
    "        self.x += value\n",
    "\n",
    "\n",
    "screen = SCREEN()\n",
    "for command in data:\n",
    "    screen.command(*command.split())\n",
    "\n",
    "screen = \"\\n\".join([\"\".join(row) for row in screen.screen])\n",
    "\n",
    "print(screen)\n",
    "\n"
   ]
  }
 ],
 "metadata": {
  "kernelspec": {
   "display_name": "venv",
   "language": "python",
   "name": "python3"
  },
  "language_info": {
   "codemirror_mode": {
    "name": "ipython",
    "version": 3
   },
   "file_extension": ".py",
   "mimetype": "text/x-python",
   "name": "python",
   "nbconvert_exporter": "python",
   "pygments_lexer": "ipython3",
   "version": "3.10.6"
  },
  "orig_nbformat": 4,
  "vscode": {
   "interpreter": {
    "hash": "4aaa93cb18d810c124143320185fd5168d356519a1e700835299493192a2ba46"
   }
  }
 },
 "nbformat": 4,
 "nbformat_minor": 2
}
