{
 "cells": [
  {
   "cell_type": "code",
   "execution_count": null,
   "metadata": {},
   "outputs": [],
   "source": [
    "from pathlib import Path\n",
    "\n",
    "file = Path(__name__).resolve().parent.joinpath(\"input.txt\")\n",
    "\n",
    "data = []\n",
    "with open(file, \"r\") as f:\n",
    "    data = f.read()\n",
    "\n",
    "data = data.split(\"\\n\")"
   ]
  },
  {
   "cell_type": "code",
   "execution_count": null,
   "metadata": {},
   "outputs": [],
   "source": [
    "from string import ascii_letters\n",
    "\n",
    "def find_item(matrix: list[list[int]], item: int) -> tuple[int, int]:\n",
    "    for idx, column in enumerate(matrix):\n",
    "        try:\n",
    "            x = column.index(item)\n",
    "            y = idx\n",
    "            return y, x\n",
    "        except ValueError:\n",
    "            continue\n",
    "\n",
    "\n",
    "\n",
    "matrix = []\n",
    "for line in data:\n",
    "    matrix.append([])\n",
    "    for i in line:\n",
    "        matrix[-1].append(ascii_letters.find(i))\n",
    "        \n",
    "\n",
    "dest_pose = find_item(matrix, 30)\n",
    "origin_pose = find_item(matrix, 44)\n",
    "\n",
    "matrix[dest_pose[0]][dest_pose[1]] = 26\n",
    "matrix[origin_pose[0]][origin_pose[1]] = -1\n",
    "        "
   ]
  },
  {
   "cell_type": "code",
   "execution_count": null,
   "metadata": {},
   "outputs": [],
   "source": [
    "# bad time complexity \n",
    "\n",
    "def get_options(\n",
    "    matrix: list[list[int]], pose: tuple[int, int], checked_pose: set\n",
    ") -> list[tuple[int, int]]:\n",
    "    current_height = matrix[pose[0]][pose[1]]\n",
    "\n",
    "    left = pose[0], pose[1] - 1\n",
    "    right = pose[0], pose[1] + 1\n",
    "    up = pose[0] + 1, pose[1]\n",
    "    down = pose[0] - 1, pose[1]\n",
    "\n",
    "    options = []\n",
    "    for option in [left, right, up, down]:\n",
    "        try:\n",
    "            if option in checked_pose:\n",
    "                continue\n",
    "            \n",
    "            height = matrix[option[0]][option[1]]\n",
    "            \n",
    "            dif = current_height - height\n",
    "            if dif > 1:\n",
    "                continue\n",
    "\n",
    "            options.append(option)\n",
    "\n",
    "        except IndexError:\n",
    "            continue\n",
    "\n",
    "    return options\n",
    "\n",
    "\n",
    "\n",
    "def find_path(pose: tuple[int,int], matrix: list[list[int]], origin_pose: tuple[int,int], previous_poses: set)-> int:\n",
    "    checked_poses = set(previous_poses)\n",
    "    checked_poses.add(pose)\n",
    "    options = get_options(matrix, pose, checked_poses)\n",
    "    \n",
    "    if not options:\n",
    "        return float(\"inf\")\n",
    "    \n",
    "    if origin_pose in options:\n",
    "        return 1\n",
    "    \n",
    "    min_steps = float(\"inf\")\n",
    "    for option in options:\n",
    "        steps = find_path(option, matrix, origin_pose, checked_poses)+1\n",
    "        min_steps = min(steps, min_steps)\n",
    "    \n",
    "    return min_steps\n",
    "\n",
    "checked_pose = set()\n",
    "find_path(dest_pose, matrix, origin_pose, checked_pose)"
   ]
  },
  {
   "cell_type": "code",
   "execution_count": 26,
   "metadata": {},
   "outputs": [
    {
     "name": "stdout",
     "output_type": "stream",
     "text": [
      "1 40\n",
      "4 40\n",
      "9 40\n",
      "12 40\n",
      "14 40\n",
      "15 40\n",
      "16 40\n",
      "17 40\n",
      "18 40\n",
      "19 40\n",
      "20 40\n",
      "21 40\n",
      "22 40\n",
      "23 40\n",
      "24 40\n",
      "25 40\n",
      "26 40\n",
      "27 40\n",
      "28 40\n",
      "29 40\n",
      "30 40\n",
      "31 40\n",
      "32 40\n",
      "33 40\n",
      "34 40\n",
      "35 40\n",
      "36 40\n",
      "37 40\n",
      "38 40\n",
      "39 40\n"
     ]
    },
    {
     "data": {
      "text/plain": [
       "31"
      ]
     },
     "execution_count": 26,
     "metadata": {},
     "output_type": "execute_result"
    }
   ],
   "source": [
    "def get_options(\n",
    "    matrix: list[list[int]],\n",
    "    pose: tuple[int, int],\n",
    "    checked_pose: set,\n",
    ") -> list[tuple[int, int]]:\n",
    "    current_height = matrix[pose[0]][pose[1]]\n",
    "\n",
    "    left = pose[0], pose[1] - 1\n",
    "    right = pose[0], pose[1] + 1\n",
    "    up = pose[0] + 1, pose[1]\n",
    "    down = pose[0] - 1, pose[1]\n",
    "\n",
    "    options = []\n",
    "    for option in [left, right, up, down]:\n",
    "        try:\n",
    "            if (option[0] < 0) or (option[1] < 0):\n",
    "                continue\n",
    "\n",
    "            if option in checked_pose:\n",
    "                continue\n",
    "\n",
    "            height = matrix[option[0]][option[1]]\n",
    "            dif = height - current_height\n",
    "\n",
    "            if dif > 1:\n",
    "                continue\n",
    "\n",
    "            options.append(option)\n",
    "\n",
    "        except IndexError:\n",
    "            continue\n",
    "\n",
    "    return options\n",
    "\n",
    "\n",
    "def find_shortest_path(origin_pose, dest_pose, matrix):\n",
    "    pose = origin_pose\n",
    "    checked_pose = set(\n",
    "        [\n",
    "            pose,\n",
    "        ]\n",
    "    )\n",
    "    edges = set(get_options(matrix=matrix, pose=pose, checked_pose=checked_pose))\n",
    "    counter = 0\n",
    "    while len(edges):\n",
    "        print(len(checked_pose), len(matrix) * len(matrix[0]))\n",
    "        counter += 1\n",
    "        options = set()\n",
    "        while edges:\n",
    "            pose = edges.pop()\n",
    "            options |= set(\n",
    "                get_options(matrix=matrix, pose=pose, checked_pose=checked_pose)\n",
    "            )\n",
    "            if dest_pose in options:\n",
    "                return counter + 1\n",
    "\n",
    "        edges = options\n",
    "        checked_pose |= edges\n",
    "\n",
    "    print(\"ERROR\")\n",
    "    return None\n",
    "\n",
    "\n",
    "find_shortest_path(origin_pose, dest_pose, matrix)\n"
   ]
  },
  {
   "cell_type": "code",
   "execution_count": null,
   "metadata": {},
   "outputs": [],
   "source": [
    "screen = []\n",
    "for line in matrix:\n",
    "    row = \"\\t\".join(str(i) for i in line)\n",
    "    screen.append(row)\n",
    "\n",
    "print(\"\\n\".join(screen))"
   ]
  },
  {
   "cell_type": "code",
   "execution_count": 25,
   "metadata": {},
   "outputs": [
    {
     "data": {
      "text/plain": [
       "7"
      ]
     },
     "execution_count": 25,
     "metadata": {},
     "output_type": "execute_result"
    }
   ],
   "source": [
    "matrix[-1][-2]"
   ]
  }
 ],
 "metadata": {
  "kernelspec": {
   "display_name": "Python 3 (ipykernel)",
   "language": "python",
   "name": "python3"
  },
  "language_info": {
   "codemirror_mode": {
    "name": "ipython",
    "version": 3
   },
   "file_extension": ".py",
   "mimetype": "text/x-python",
   "name": "python",
   "nbconvert_exporter": "python",
   "pygments_lexer": "ipython3",
   "version": "3.10.6"
  },
  "orig_nbformat": 4,
  "vscode": {
   "interpreter": {
    "hash": "1962a284e9c93543513960a5fc8c9acca9f2fc01827941555af93a8c649114d2"
   }
  }
 },
 "nbformat": 4,
 "nbformat_minor": 2
}
