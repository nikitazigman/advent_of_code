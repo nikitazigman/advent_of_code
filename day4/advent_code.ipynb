{
 "cells": [
  {
   "cell_type": "code",
   "execution_count": 61,
   "metadata": {},
   "outputs": [],
   "source": [
    "from pathlib import Path\n",
    "\n",
    "input_file = Path(__name__).resolve().parent.joinpath(\"input.txt\")\n",
    "\n",
    "data = []\n",
    "with open(input_file, \"r\") as f:\n",
    "    data = f.read()\n",
    "    \n",
    "data = tuple(data.split(\"\\n\"))"
   ]
  },
  {
   "cell_type": "code",
   "execution_count": 62,
   "metadata": {},
   "outputs": [],
   "source": [
    "def get_ids(sector: str)->set[int]:\n",
    "    return {int(ID) for ID in sector.split(\"-\")}"
   ]
  },
  {
   "cell_type": "code",
   "execution_count": null,
   "metadata": {},
   "outputs": [],
   "source": [
    "counter= []\n",
    "for pair_assignment in data:\n",
    "    sect_1, sect_2 = pair_assignment.split(\",\")\n",
    "    sect_1, sect_2 = get_ids(sect_1), get_ids(sect_2)\n",
    "    min_max_v = set([min([*sect_1,*sect_2]), max([*sect_1,*sect_2])])\n",
    "    \n",
    "    counter.append((min_max_v == sect_1) or (min_max_v == sect_2))"
   ]
  },
  {
   "cell_type": "code",
   "execution_count": 63,
   "metadata": {},
   "outputs": [],
   "source": [
    "counter= []\n",
    "for pair_assignment in data:\n",
    "    sect_1, sect_2 = pair_assignment.split(\",\")\n",
    "    sect_1, sect_2 = get_ids(sect_1), get_ids(sect_2)\n",
    "    \n",
    "    counter.append(((max(sect_1) > min(sect_2)) and (max(sect_2) > min(sect_1))))"
   ]
  },
  {
   "cell_type": "code",
   "execution_count": 65,
   "metadata": {},
   "outputs": [
    {
     "ename": "SyntaxError",
     "evalue": "did you forget parentheses around the comprehension target? (1674616878.py, line 1)",
     "output_type": "error",
     "traceback": [
      "\u001b[0;36m  Cell \u001b[0;32mIn[65], line 1\u001b[0;36m\u001b[0m\n\u001b[0;31m    p = [d,c for d,c in zip(data, counter)]\u001b[0m\n\u001b[0m         ^\u001b[0m\n\u001b[0;31mSyntaxError\u001b[0m\u001b[0;31m:\u001b[0m did you forget parentheses around the comprehension target?\n"
     ]
    }
   ],
   "source": [
    "p = [(d,c) for d,c in zip(data, counter)]"
   ]
  },
  {
   "cell_type": "code",
   "execution_count": 64,
   "metadata": {},
   "outputs": [
    {
     "data": {
      "text/plain": [
       "807"
      ]
     },
     "execution_count": 64,
     "metadata": {},
     "output_type": "execute_result"
    }
   ],
   "source": [
    "len([i for i in counter if i])"
   ]
  }
 ],
 "metadata": {
  "kernelspec": {
   "display_name": "Python 3.10.6 ('venv': venv)",
   "language": "python",
   "name": "python3"
  },
  "language_info": {
   "codemirror_mode": {
    "name": "ipython",
    "version": 3
   },
   "file_extension": ".py",
   "mimetype": "text/x-python",
   "name": "python",
   "nbconvert_exporter": "python",
   "pygments_lexer": "ipython3",
   "version": "3.10.6"
  },
  "orig_nbformat": 4,
  "vscode": {
   "interpreter": {
    "hash": "fab0783485e1e83172627bfa795ff4be6a536e0ed8f9789e2ce5889e14af79bc"
   }
  }
 },
 "nbformat": 4,
 "nbformat_minor": 2
}
