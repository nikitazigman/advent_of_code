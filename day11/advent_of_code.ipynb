{
 "cells": [
  {
   "cell_type": "code",
   "execution_count": null,
   "metadata": {},
   "outputs": [],
   "source": [
    "from pathlib import Path\n",
    "\n",
    "file = Path(__name__).resolve().parent.joinpath(\"test_input.txt\")\n",
    "\n",
    "data = []\n",
    "with open(file, \"r\") as f:\n",
    "    data = f.read()\n",
    "\n",
    "data = data.split(\"\\n\")"
   ]
  },
  {
   "cell_type": "code",
   "execution_count": null,
   "metadata": {},
   "outputs": [],
   "source": [
    "from typing import Callable\n",
    "\n",
    "# A bit advance but HO HO HOOO nothing can stop me!\n",
    "\n",
    "class Monkey:\n",
    "    def __init__(self, description: list[str]) -> None:\n",
    "        self.items: list[int] = self.get_start_items(description.pop(0))\n",
    "        self.operation: Callable[[int], int] = self.get_operation(description.pop(0))\n",
    "        self.test: Callable[[int], bool] = self.get_test(description.pop(0))\n",
    "        self.true_monkey: int = int(description.pop(0).split()[-1])\n",
    "        self.false_monkey: int = int(description.pop(0).split()[-1])\n",
    "        self.inspected_items = 0\n",
    "\n",
    "    @staticmethod\n",
    "    def get_start_items(line) -> list[int]:\n",
    "        return [int(i.strip()) for i in line.split(\":\")[1].split(\",\")]\n",
    "\n",
    "    @staticmethod\n",
    "    def get_operation(line) -> Callable[[int], int]:\n",
    "        description = {}\n",
    "        function = line.split(\":\")[1].strip()\n",
    "        exec(f\"def operation(old):\\n\\t{function}\\n\\treturn new\", description)\n",
    "        return description[\"operation\"]\n",
    "\n",
    "    @staticmethod\n",
    "    def get_test(line) -> Callable[[int], bool]:\n",
    "        _divisible_by = int(line.split()[-1])\n",
    "\n",
    "        def test(x: int) -> bool:\n",
    "            nonlocal _divisible_by\n",
    "            return not bool(x % _divisible_by)\n",
    "\n",
    "        return test\n",
    "\n",
    "    def inspect(self) -> tuple[int, int]:\n",
    "        if not self.items:\n",
    "            return None, None\n",
    "        \n",
    "        item = self.items.pop(0)\n",
    "        item = self.operation(item)\n",
    "        # item = int(item / 3)\n",
    "        next_monkey = self.true_monkey if self.test(item) else self.false_monkey\n",
    "        \n",
    "        self.inspected_items +=1\n",
    "        \n",
    "        return next_monkey, item\n"
   ]
  },
  {
   "cell_type": "code",
   "execution_count": null,
   "metadata": {},
   "outputs": [],
   "source": [
    "from typing import Callable\n",
    "# A bit advance but HO HO HOOO nothing can stop me!\n",
    "\n",
    "class Monkey:\n",
    "    def __init__(self, description: list[str]) -> None:\n",
    "        self.items: list[int] = self.get_start_items(description.pop(0))\n",
    "        self.operation: Callable[[int], int] = self.get_operation(description.pop(0))\n",
    "        self.test: Callable[[int], bool] = self.get_test(description.pop(0))\n",
    "        self.true_monkey: int = int(description.pop(0).split()[-1])\n",
    "        self.false_monkey: int = int(description.pop(0).split()[-1])\n",
    "        self.inspected_items = 0\n",
    "\n",
    "    @staticmethod\n",
    "    def get_start_items(line) -> list[int]:\n",
    "        return [[int(i.strip())] for i in line.split(\":\")[1].split(\",\")]\n",
    "\n",
    "    @staticmethod\n",
    "    def get_operation(line) -> Callable[[int], int]:\n",
    "        description = {}\n",
    "        function = line.split(\":\")[1].strip()\n",
    "        \n",
    "        if \"+\" in function:\n",
    "            function = f\"old.append({function.split()[-1]})\"\n",
    "            exec(f\"def operation(old):\\n\\t{function}\\n\\treturn old\", description)\n",
    "            return description[\"operation\"]\n",
    "        \n",
    "        function = function.split(\" \")[-3:]\n",
    "        function = \" \".join(function)\n",
    "        function = f\"new = [{function} for old in data]\"\n",
    "        print(function)\n",
    "        exec(f\"def operation(data):\\n\\t{function}\\n\\treturn new\", description)\n",
    "        return description[\"operation\"]    \n",
    "        \n",
    "\n",
    "    @staticmethod\n",
    "    def get_test(line) -> Callable[[int], bool]:\n",
    "        _divisible_by = int(line.split()[-1])\n",
    "\n",
    "        def test(x: list[int]) -> bool:\n",
    "            nonlocal _divisible_by\n",
    "            result =  sum([i % _divisible_by for i in x])\n",
    "            \n",
    "            return not bool(result % _divisible_by)\n",
    "\n",
    "        return test\n",
    "\n",
    "    def inspect(self) -> tuple[int, int]:\n",
    "        if not self.items:\n",
    "            return None, None\n",
    "        \n",
    "        item = self.items.pop(0)\n",
    "        item = self.operation(item)\n",
    "        next_monkey = self.true_monkey if self.test(item) else self.false_monkey\n",
    "        \n",
    "        self.inspected_items +=1\n",
    "        \n",
    "        return next_monkey, item"
   ]
  },
  {
   "cell_type": "code",
   "execution_count": 60,
   "metadata": {},
   "outputs": [
    {
     "name": "stdout",
     "output_type": "stream",
     "text": [
      "new = [old * 19 for old in data]\n",
      "new = [old * old for old in data]\n"
     ]
    }
   ],
   "source": [
    "monkeys: dict[int, Monkey] = {}\n",
    "description = []\n",
    "for idx in range(0,len(data), 7):\n",
    "    monkey = int(data[idx].split()[-1].strip(\":\"))\n",
    "    monkeys[monkey] = Monkey(data[idx+1:idx+6])"
   ]
  },
  {
   "cell_type": "code",
   "execution_count": 61,
   "metadata": {},
   "outputs": [
    {
     "name": "stdout",
     "output_type": "stream",
     "text": [
      "0 {0: 0, 1: 0, 2: 0, 3: 0} {0: [79, 98], 1: [54, 65, 75, 74], 2: [79, 60, 97], 3: [74]}\n",
      "1 {0: 2, 1: 4, 2: 3, 3: 6} {0: [60, 71, 81, 80], 1: [77, 1504, 1865, 6244, 3603, 9412], 2: [], 3: []}\n",
      "2 {0: 6, 1: 10, 2: 3, 3: 10} {0: [83, 1510, 1871, 6250, 3609, 9418], 1: [1143, 1352, 1542, 1523], 2: [], 3: []}\n",
      "3 {0: 12, 1: 14, 2: 3, 3: 16} {0: [1149, 1358, 1548, 1529], 1: [1580, 28693, 35552, 118753, 68574, 178945], 2: [], 3: []}\n",
      "4 {0: 16, 1: 20, 2: 3, 3: 20} {0: [1586, 28699, 35558, 118759, 68580, 178951], 1: [21834, 25805, 29415, 29054], 2: [], 3: []}\n",
      "5 {0: 22, 1: 24, 2: 4, 3: 25} {0: [21840, 25811, 29421, 29060], 1: [451834521814, 30137, 545284, 2256424, 1303023, 3400072], 2: [], 3: []}\n",
      "6 {0: 26, 1: 30, 2: 4, 3: 29} {0: [451834521820, 30143, 545290, 2256430, 1303029, 3400078, 552143], 1: [414963, 490412, 559002], 2: [], 3: []}\n",
      "7 {0: 33, 1: 33, 2: 4, 3: 36} {0: [414969, 490418, 559008], 1: [8584855914583, 572720, 10360513, 42872173, 24757554, 64601485, 10490720], 2: [], 3: []}\n",
      "8 {0: 36, 1: 40, 2: 4, 3: 39} {0: [8584855914589, 572726, 10360519, 42872179, 24757560, 64601491, 10490726], 1: [7884414, 9317945, 10621155], 2: [], 3: []}\n",
      "9 {0: 43, 1: 43, 2: 4, 3: 46} {0: [7884420, 9317951, 10621161], 1: [163112262377194, 10881797, 196849864, 814571404, 470393643, 1227428332, 199323797], 2: [], 3: []}\n",
      "10 {0: 46, 1: 50, 2: 4, 3: 49} {0: [163112262377200, 10881803, 196849870, 814571410, 470393649, 1227428338, 199323803, 149803983], 1: [177041072, 201802062], 2: [], 3: []}\n",
      "11 {0: 54, 1: 52, 2: 5, 3: 57} {0: [177041078, 201802068], 1: [3099132985166803, 206754260, 15476856793, 8937479334, 23321138425, 3787152260, 2846275680, 13813575074256794029], 2: [], 3: []}\n",
      "12 {0: 56, 1: 60, 2: 5, 3: 59} {0: [3099132985166809, 206754266, 15476856799, 8937479340, 23321138431, 3787152266, 2846275686, 13813575074256794035], 1: [3363780485, 3834239295], 2: [], 3: []}\n",
      "13 {0: 64, 1: 62, 2: 5, 3: 67} {0: [3363780491, 3834239301, 443101630192], 1: [58883526718169374, 3928331057, 294060279184, 169812107463, 71955893057, 54079238037, 262457926410879086668], 2: [], 3: []}\n",
      "14 {0: 67, 1: 69, 2: 5, 3: 70} {0: [58883526718169380, 3928331063, 294060279190, 169812107469, 71955893063, 54079238043, 262457926410879086674], 1: [63911829332, 72850546722, 8418930973651], 2: [], 3: []}\n",
      "15 {0: 74, 1: 72, 2: 6, 3: 77} {0: [63911829338, 72850546728, 8418930973657, 1118787007645218223], 1: [74638290200, 3226430041914, 1367161968200, 1027505522820, 4986700601806702646809, 31121411185961580879209719], 2: [], 3: []}\n",
      "16 {0: 78, 1: 78, 2: 6, 3: 81} {0: [74638290206, 3226430041920, 1367161968206, 1027505522826, 4986700601806702646815, 31121411185961580879209725], 1: [1214324757425, 1384160387835, 159959688499486, 21256953145259146240], 2: [], 3: []}\n",
      "17 {0: 84, 1: 82, 2: 7, 3: 87} {0: [1214324757431, 1384160387841, 159959688499492, 21256953145259146246, 25976077395917], 1: [1418127513917, 19522604933697, 94747311434327350289488, 591306812533270036704984778, 3738213735755157572050951563], 2: [], 3: []}\n",
      "18 {0: 89, 1: 87, 2: 7, 3: 92} {0: [1418127513923, 19522604933703, 94747311434327350289494, 591306812533270036704984784, 3738213735755157572050951569], 1: [23072170391192, 26299047368982, 3039234081490351, 403882109759923778677, 493545470522426], 2: [], 3: []}\n",
      "19 {0: 94, 1: 92, 2: 8, 3: 97} {0: [23072170391198, 26299047368988, 3039234081490357, 403882109759923778683, 493545470522432, 11234829438132130697394710899], 1: [26944422764540, 1800198917252219655500389, 71026060979347993868968079814, 110970300393357641113174622724], 2: [], 3: []}\n",
      "20 {0: 100, 1: 96, 2: 8, 3: 103} {0: [26944422764546, 1800198917252219655500395, 71026060979347993868968079820, 110970300393357641113174622730], 1: [438371237432765, 499681900010775, 57745447548316786, 7673760085438551794980, 9377363939926211, 213461759324510483250499507084], 2: [], 3: []}\n"
     ]
    }
   ],
   "source": [
    "for round in range(21):\n",
    "    result = {k:m.inspected_items for k, m in monkeys.items()}\n",
    "    result2 = {}\n",
    "    for k, m in monkeys.items():\n",
    "        result2[k] = [sum(i) for i in m.items]\n",
    "        # result2[k] = m.items  \n",
    "    \n",
    "    print(round, result, result2)\n",
    "    for monkey in range(len(monkeys)):\n",
    "        while True:\n",
    "            next_monkey, item = monkeys[monkey].inspect()\n",
    "            \n",
    "            if next_monkey is None:\n",
    "                break\n",
    "            \n",
    "            monkeys[next_monkey].items.append(item)"
   ]
  },
  {
   "cell_type": "code",
   "execution_count": null,
   "metadata": {},
   "outputs": [],
   "source": []
  },
  {
   "cell_type": "code",
   "execution_count": null,
   "metadata": {},
   "outputs": [],
   "source": [
    "inspected_items = [m.inspected_items for m in monkeys.values()]\n",
    "inspected_items.sort()\n",
    "inspected_items[-1]*inspected_items[-2]"
   ]
  },
  {
   "cell_type": "code",
   "execution_count": null,
   "metadata": {},
   "outputs": [],
   "source": [
    "result = {k:m.inspected_items for k, m in monkeys.items()}\n",
    "print(result)"
   ]
  },
  {
   "cell_type": "code",
   "execution_count": null,
   "metadata": {},
   "outputs": [],
   "source": [
    "def represent_as_prime_numbers(number:int)->list[int]:\n",
    "        prime_numbers = []\n",
    "        if number > 1:\n",
    "            for i in range(2, number//2):\n",
    "                if (number % i) == 0:\n",
    "                    prime_numbers.append(int(i))\n",
    "                    number /= i\n",
    "            else:\n",
    "                prime_numbers.append(int(number))\n",
    "        else:\n",
    "            raise ValueError\n",
    "    \n",
    "        return prime_numbers\n",
    "\n",
    "represent_as_prime_numbers(93)"
   ]
  },
  {
   "cell_type": "code",
   "execution_count": null,
   "metadata": {},
   "outputs": [],
   "source": [
    "0%3"
   ]
  }
 ],
 "metadata": {
  "kernelspec": {
   "display_name": "venv",
   "language": "python",
   "name": "python3"
  },
  "language_info": {
   "codemirror_mode": {
    "name": "ipython",
    "version": 3
   },
   "file_extension": ".py",
   "mimetype": "text/x-python",
   "name": "python",
   "nbconvert_exporter": "python",
   "pygments_lexer": "ipython3",
   "version": "3.10.6"
  },
  "orig_nbformat": 4,
  "vscode": {
   "interpreter": {
    "hash": "4aaa93cb18d810c124143320185fd5168d356519a1e700835299493192a2ba46"
   }
  }
 },
 "nbformat": 4,
 "nbformat_minor": 2
}
