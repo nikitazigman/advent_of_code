{
 "cells": [
  {
   "cell_type": "code",
   "execution_count": 183,
   "metadata": {},
   "outputs": [],
   "source": [
    "from pathlib import Path\n",
    "\n",
    "file = Path(__name__).resolve().parent.joinpath(\"input.txt\")\n",
    "\n",
    "data = []\n",
    "with open(file, \"r\") as f:\n",
    "    data = f.read()\n",
    "\n",
    "data = data.split(\"\\n\")"
   ]
  },
  {
   "cell_type": "code",
   "execution_count": 184,
   "metadata": {},
   "outputs": [],
   "source": [
    "array = []\n",
    "for line_idx, line in enumerate(data):\n",
    "    array.append([])\n",
    "    for number in line:\n",
    "        array[line_idx].append(int(number))"
   ]
  },
  {
   "cell_type": "code",
   "execution_count": 167,
   "metadata": {},
   "outputs": [],
   "source": [
    "def find_visible_tree_in_line(line: list[int], prefix=\"\",postfix=\"\", reversed=False) -> set[str]:\n",
    "    current_biggest_tree = -float(\"inf\")\n",
    "    visible_trees = set()\n",
    "    line_length = len(line)-1\n",
    "    trees = line[::-1] if reversed else line \n",
    "    \n",
    "    for idx, tree in enumerate(trees):\n",
    "        if tree <= current_biggest_tree:\n",
    "            continue\n",
    "        \n",
    "        current_biggest_tree = tree\n",
    "        \n",
    "        name = line_length - idx if reversed else idx\n",
    "        visible_trees.add(f\"{prefix}{name}{postfix}\")   \n",
    "    \n",
    "    return visible_trees \n",
    "\n",
    "def rotate_array(array: list[list[int]]) -> list[list[int]]:\n",
    "    rotated_array = []  \n",
    "    \n",
    "    for x in range(len(array[0])):\n",
    "        rotated_array.append([])\n",
    "        for y in range(len(array)):\n",
    "            rotated_array[x].append(array[y][x]) \n",
    "    \n",
    "    return rotated_array"
   ]
  },
  {
   "cell_type": "code",
   "execution_count": 168,
   "metadata": {},
   "outputs": [],
   "source": [
    "visible_trees = set()\n",
    "\n",
    "for idx, line in enumerate(array):\n",
    "    trees = find_visible_tree_in_line(line, prefix=f\"{idx}-\")\n",
    "    visible_trees.update(trees)\n",
    "    trees = find_visible_tree_in_line(line, prefix=f\"{idx}-\", reversed=True)\n",
    "    visible_trees.update(trees)\n",
    "   \n",
    "rotated_array = rotate_array(array)\n",
    " \n",
    "for idx, line in enumerate(rotated_array):\n",
    "    trees = find_visible_tree_in_line(line, postfix=f\"-{idx}\")\n",
    "    visible_trees.update(trees)\n",
    "    trees = find_visible_tree_in_line(line, postfix=f\"-{idx}\", reversed=True)\n",
    "    visible_trees.update(trees)\n",
    "\n",
    "len(visible_trees)"
   ]
  },
  {
   "cell_type": "code",
   "execution_count": 185,
   "metadata": {},
   "outputs": [],
   "source": [
    "def get_line_dist(line:list[int], tree:int)->int:\n",
    "    idx = 0\n",
    "    line_length = len(line)\n",
    "    while idx < line_length:\n",
    "        if line[idx] >= tree:\n",
    "            idx +=1\n",
    "            break\n",
    "        idx +=1\n",
    "        \n",
    "    return idx"
   ]
  },
  {
   "cell_type": "code",
   "execution_count": 186,
   "metadata": {},
   "outputs": [
    {
     "data": {
      "text/plain": [
       "479400"
      ]
     },
     "execution_count": 186,
     "metadata": {},
     "output_type": "execute_result"
    }
   ],
   "source": [
    "\n",
    "estimation = []\n",
    "for y in range(len(array)):\n",
    "    for x in range(len(array[0])): \n",
    "        tree = array[y][x]\n",
    "        \n",
    "        line = array[y]\n",
    "        column = [array[i][x] for i in range(len(array))]\n",
    "        \n",
    "        rd = get_line_dist(line[x+1:],tree)\n",
    "        ld = get_line_dist(line[:x][::-1],tree)\n",
    "            \n",
    "        dd = get_line_dist(column[y+1:],tree)\n",
    "        ud = get_line_dist(column[:y][::-1],tree)\n",
    "        estimation.append(rd * ld * ud * dd)\n",
    "\n",
    "max(estimation)          \n",
    "    "
   ]
  },
  {
   "attachments": {},
   "cell_type": "markdown",
   "metadata": {},
   "source": [
    "# The solution is a pice of sheet. Think about dynamic programming \n"
   ]
  }
 ],
 "metadata": {
  "kernelspec": {
   "display_name": "Python 3.10.6 64-bit",
   "language": "python",
   "name": "python3"
  },
  "language_info": {
   "codemirror_mode": {
    "name": "ipython",
    "version": 3
   },
   "file_extension": ".py",
   "mimetype": "text/x-python",
   "name": "python",
   "nbconvert_exporter": "python",
   "pygments_lexer": "ipython3",
   "version": "3.10.6"
  },
  "orig_nbformat": 4,
  "vscode": {
   "interpreter": {
    "hash": "31f2aee4e71d21fbe5cf8b01ff0e069b9275f58929596ceb00d14d90e3e16cd6"
   }
  }
 },
 "nbformat": 4,
 "nbformat_minor": 2
}
