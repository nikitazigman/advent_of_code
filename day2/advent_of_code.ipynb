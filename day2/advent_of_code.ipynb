{
 "cells": [
  {
   "cell_type": "code",
   "execution_count": 1,
   "metadata": {},
   "outputs": [],
   "source": [
    "from pathlib import Path\n",
    "\n",
    "file = Path(__name__).resolve().parent.joinpath(\"input.txt\")\n",
    "\n",
    "data = []\n",
    "with open(file, \"r\") as f:\n",
    "    data = f.read()\n",
    "data: tuple[str] = tuple(data.split(\"\\n\"))"
   ]
  },
  {
   "cell_type": "code",
   "execution_count": 3,
   "metadata": {},
   "outputs": [],
   "source": [
    "# X,A - Rock 1 \n",
    "# Y,B - Paper 2 \n",
    "# Z,C - Scissor 3 \n",
    "game_result = {\n",
    "    \"X\": {\n",
    "        \"A\": 1 + 3,\n",
    "        \"B\": 1 + 0,\n",
    "        \"C\": 1 + 6,\n",
    "    },\n",
    "    \"Y\": {\n",
    "        \"A\": 2 + 6,\n",
    "        \"B\": 2 + 3,\n",
    "        \"C\": 2 + 0,\n",
    "    },\n",
    "    \"Z\": {\n",
    "        \"A\": 3 + 0,\n",
    "        \"B\": 3 + 6,\n",
    "        \"C\": 3 + 3,\n",
    "    },\n",
    "}\n",
    "results = []\n",
    "for game in data:\n",
    "    opponent, me = game.split()\n",
    "    results.append(game_result[me][opponent])\n",
    "\n",
    "my_end_result = sum(results)"
   ]
  },
  {
   "cell_type": "code",
   "execution_count": 5,
   "metadata": {},
   "outputs": [
    {
     "data": {
      "text/plain": [
       "12535"
      ]
     },
     "execution_count": 5,
     "metadata": {},
     "output_type": "execute_result"
    }
   ],
   "source": [
    "my_end_result"
   ]
  },
  {
   "cell_type": "code",
   "execution_count": 6,
   "metadata": {},
   "outputs": [],
   "source": [
    "# X,A - Rock 1\n",
    "# Y,B - Paper  2\n",
    "# Z,C - Scissor  3\n",
    "game_result = {\n",
    "    \"X\": {\n",
    "        \"A\": 3 + 0,\n",
    "        \"B\": 1 + 0,\n",
    "        \"C\": 2 + 0,\n",
    "    },\n",
    "    \"Y\": {\n",
    "        \"A\": 1 + 3,\n",
    "        \"B\": 2 + 3,\n",
    "        \"C\": 3 + 3,\n",
    "    },\n",
    "    \"Z\": {\n",
    "        \"A\": 2 + 6,\n",
    "        \"B\": 3 + 6,\n",
    "        \"C\": 1 + 6,\n",
    "    },\n",
    "}\n",
    "results = []\n",
    "for game in data:\n",
    "    opponent, me = game.split()\n",
    "    results.append(game_result[me][opponent])\n",
    "\n",
    "my_end_result = sum(results)"
   ]
  },
  {
   "cell_type": "code",
   "execution_count": 7,
   "metadata": {},
   "outputs": [
    {
     "data": {
      "text/plain": [
       "15457"
      ]
     },
     "execution_count": 7,
     "metadata": {},
     "output_type": "execute_result"
    }
   ],
   "source": [
    "my_end_result"
   ]
  }
 ],
 "metadata": {
  "kernelspec": {
   "display_name": "Python 3.10.6 64-bit",
   "language": "python",
   "name": "python3"
  },
  "language_info": {
   "codemirror_mode": {
    "name": "ipython",
    "version": 3
   },
   "file_extension": ".py",
   "mimetype": "text/x-python",
   "name": "python",
   "nbconvert_exporter": "python",
   "pygments_lexer": "ipython3",
   "version": "3.10.6"
  },
  "orig_nbformat": 4,
  "vscode": {
   "interpreter": {
    "hash": "916dbcbb3f70747c44a77c7bcd40155683ae19c65e1c03b4aa3499c5328201f1"
   }
  }
 },
 "nbformat": 4,
 "nbformat_minor": 2
}
