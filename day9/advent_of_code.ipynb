{
 "cells": [
  {
   "cell_type": "code",
   "execution_count": 27,
   "metadata": {},
   "outputs": [],
   "source": [
    "from pathlib import Path\n",
    "\n",
    "file = Path(__name__).resolve().parent.joinpath(\"input.txt\")\n",
    "\n",
    "data = []\n",
    "with open(file, \"r\") as f:\n",
    "    data = f.read()\n",
    "\n",
    "data = data.split(\"\\n\")"
   ]
  },
  {
   "cell_type": "code",
   "execution_count": 21,
   "metadata": {},
   "outputs": [
    {
     "data": {
      "text/plain": [
       "6522"
      ]
     },
     "execution_count": 21,
     "metadata": {},
     "output_type": "execute_result"
    }
   ],
   "source": [
    "class Rope:\n",
    "    commands = {\"R\": [0, 1], \"L\": [0, -1], \"U\": [1, 0], \"D\": [-1, 0]}\n",
    "\n",
    "    def __init__(self) -> None:\n",
    "        self.head = [0, 0]\n",
    "        self.tail = [0, 0]\n",
    "        self.unique_pose = {(0,0), }\n",
    "\n",
    "    def update_tail(self) -> None:\n",
    "        y, x = self.head[0] - self.tail[0], self.head[1] - self.tail[1]\n",
    "\n",
    "        if (abs(x) <= 1) and (abs(y) <= 1):\n",
    "            return \n",
    "        \n",
    "        if x != 0 and y !=0:\n",
    "            self.tail[1] += int(1 * (x / abs(x)))\n",
    "            self.tail[0] += int(1 * (y / abs(y)))\n",
    "            return \n",
    "        \n",
    "        if abs(x) > 1:\n",
    "            self.tail[1] += int(1 * (x / abs(x)))\n",
    "            return \n",
    "\n",
    "        if abs(y) > 1:\n",
    "            self.tail[0] += int(1 * (y / abs(y)))\n",
    "            return \n",
    "        \n",
    "        \n",
    "\n",
    "    def move(self, command: str, steps: int) -> None:\n",
    "        for _ in range(steps):\n",
    "            self.head[0] += self.commands[command][0]\n",
    "            self.head[1] += self.commands[command][1]\n",
    "            \n",
    "            self.update_tail()\n",
    "            self.unique_pose.add(tuple(self.tail))\n",
    "            # print(self.head, self.tail)\n",
    "\n",
    "\n",
    "rope = Rope()\n",
    "for command in data:\n",
    "    diraction, steps = command.split()\n",
    "    rope.move(diraction, int(steps))\n",
    "\n",
    "len(rope.unique_pose)\n"
   ]
  },
  {
   "cell_type": "code",
   "execution_count": 28,
   "metadata": {},
   "outputs": [
    {
     "data": {
      "text/plain": [
       "2717"
      ]
     },
     "execution_count": 28,
     "metadata": {},
     "output_type": "execute_result"
    }
   ],
   "source": [
    "class Rope:\n",
    "    commands = {\"R\": [0, 1], \"L\": [0, -1], \"U\": [1, 0], \"D\": [-1, 0]}\n",
    "\n",
    "    def __init__(self) -> None:\n",
    "        self.tails = [[0,0] for _ in range(10)]\n",
    "        self.unique_pose = {(0,0), }\n",
    "        self.tails_length = len(self.tails)\n",
    "\n",
    "    def update_tail(self, lead: list[int], follower: list[int]) -> None:\n",
    "        y, x = lead[0] - follower[0], lead[1] - follower[1]\n",
    "\n",
    "        if (abs(x) <= 1) and (abs(y) <= 1):\n",
    "            return \n",
    "        \n",
    "        if x != 0 and y !=0:\n",
    "            follower[1] += int(1 * (x / abs(x)))\n",
    "            follower[0] += int(1 * (y / abs(y)))\n",
    "            return \n",
    "        \n",
    "        if abs(x) > 1:\n",
    "            follower[1] += int(1 * (x / abs(x)))\n",
    "            return \n",
    "\n",
    "        if abs(y) > 1:\n",
    "            follower[0] += int(1 * (y / abs(y)))\n",
    "            return \n",
    "        \n",
    "        \n",
    "\n",
    "    def move(self, command: str, steps: int) -> None:\n",
    "        for _ in range(steps):\n",
    "            self.tails[0][0] += self.commands[command][0]\n",
    "            self.tails[0][1] += self.commands[command][1]\n",
    "            \n",
    "            for idx in range(self.tails_length-1):\n",
    "                self.update_tail(self.tails[idx], self.tails[idx+1])\n",
    "            \n",
    "            self.unique_pose.add(tuple(self.tails[-1]))\n",
    "            # print(self.head, self.tail)\n",
    "\n",
    "\n",
    "rope = Rope()\n",
    "for command in data:\n",
    "    diraction, steps = command.split()\n",
    "    rope.move(diraction, int(steps))\n",
    "\n",
    "len(rope.unique_pose)\n"
   ]
  }
 ],
 "metadata": {
  "kernelspec": {
   "display_name": "venv",
   "language": "python",
   "name": "python3"
  },
  "language_info": {
   "codemirror_mode": {
    "name": "ipython",
    "version": 3
   },
   "file_extension": ".py",
   "mimetype": "text/x-python",
   "name": "python",
   "nbconvert_exporter": "python",
   "pygments_lexer": "ipython3",
   "version": "3.10.6"
  },
  "orig_nbformat": 4,
  "vscode": {
   "interpreter": {
    "hash": "4aaa93cb18d810c124143320185fd5168d356519a1e700835299493192a2ba46"
   }
  }
 },
 "nbformat": 4,
 "nbformat_minor": 2
}
