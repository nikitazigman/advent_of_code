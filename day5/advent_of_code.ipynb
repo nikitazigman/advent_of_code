{
 "cells": [
  {
   "cell_type": "code",
   "execution_count": null,
   "metadata": {},
   "outputs": [],
   "source": [
    "from pathlib import Path\n",
    "\n",
    "file = Path(__name__).resolve().parent.joinpath(\"stack.txt\")\n",
    "\n",
    "raw_stack = []\n",
    "with open(file, \"r\") as f:\n",
    "    raw_stack = f.read()\n",
    "raw_stack: tuple[str] = tuple(raw_stack.split(\"\\n\"))\n",
    "\n",
    "docks = raw_stack[-1].split()\n",
    "indexes = [raw_stack[-1].find(dock) for dock in docks]\n",
    "\n",
    "stack: dict[int, list[str]] = {int(idx): [] for idx in docks}\n",
    "\n",
    "for line in raw_stack[:-1][::-1]:\n",
    "    for i, idx in enumerate(indexes):\n",
    "        crate = line[idx]\n",
    "        if crate != \" \":\n",
    "            stack[int(docks[i])].append(crate)\n"
   ]
  },
  {
   "cell_type": "code",
   "execution_count": null,
   "metadata": {},
   "outputs": [],
   "source": [
    "from pathlib import Path\n",
    "\n",
    "file = Path(__name__).resolve().parent.joinpath(\"input.txt\")\n",
    "\n",
    "commands = []\n",
    "with open(file, \"r\") as f:\n",
    "    commands = f.read()\n",
    "commands: tuple[str] = tuple(commands.split(\"\\n\"))"
   ]
  },
  {
   "cell_type": "code",
   "execution_count": null,
   "metadata": {},
   "outputs": [],
   "source": [
    "import re\n",
    "\n",
    "def get_command(command_line: str)-> list[int]:\n",
    "    return [int(i) for i in re.findall(\"[0-9]+\", command_line)]"
   ]
  },
  {
   "cell_type": "code",
   "execution_count": null,
   "metadata": {},
   "outputs": [],
   "source": [
    "from copy import deepcopy\n",
    "\n",
    "import json \n",
    "test_stack = deepcopy(stack)\n",
    "for command in commands:\n",
    "    crate_n, source_dock, dest_dock = get_command(command)\n",
    "    for _ in range(crate_n):\n",
    "        test_stack[dest_dock].append(test_stack[source_dock].pop())"
   ]
  },
  {
   "cell_type": "code",
   "execution_count": 110,
   "metadata": {},
   "outputs": [],
   "source": [
    "from copy import deepcopy\n",
    "\n",
    "import json \n",
    "test_stack = deepcopy(stack)\n",
    "for command in commands:\n",
    "    crate_n, source_dock, dest_dock = get_command(command)\n",
    "    test_stack[dest_dock].extend(test_stack[source_dock][-crate_n:])  \n",
    "    del test_stack[source_dock][-crate_n:]  "
   ]
  },
  {
   "cell_type": "code",
   "execution_count": 111,
   "metadata": {},
   "outputs": [
    {
     "data": {
      "text/plain": [
       "'SSCGWJCRB'"
      ]
     },
     "execution_count": 111,
     "metadata": {},
     "output_type": "execute_result"
    }
   ],
   "source": [
    "result = []\n",
    "for i in range(1,10):\n",
    "    result.append(test_stack[i][-1])\n",
    "    \n",
    "\"\".join(result)"
   ]
  },
  {
   "cell_type": "code",
   "execution_count": 3,
   "metadata": {},
   "outputs": [
    {
     "ename": "TypeError",
     "evalue": "bool expected at most 1 argument, got 3",
     "output_type": "error",
     "traceback": [
      "\u001b[0;31m---------------------------------------------------------------------------\u001b[0m",
      "\u001b[0;31mTypeError\u001b[0m                                 Traceback (most recent call last)",
      "\u001b[0;32m/tmp/ipykernel_50750/2114983333.py\u001b[0m in \u001b[0;36m<cell line: 1>\u001b[0;34m()\u001b[0m\n\u001b[0;32m----> 1\u001b[0;31m \u001b[0;32mclass\u001b[0m \u001b[0mCustomTrue\u001b[0m\u001b[0;34m(\u001b[0m\u001b[0;32mTrue\u001b[0m\u001b[0;34m)\u001b[0m\u001b[0;34m:\u001b[0m\u001b[0;34m\u001b[0m\u001b[0;34m\u001b[0m\u001b[0m\n\u001b[0m\u001b[1;32m      2\u001b[0m     \u001b[0;34m...\u001b[0m\u001b[0;34m\u001b[0m\u001b[0;34m\u001b[0m\u001b[0m\n",
      "\u001b[0;31mTypeError\u001b[0m: bool expected at most 1 argument, got 3"
     ]
    }
   ],
   "source": []
  }
 ],
 "metadata": {
  "kernelspec": {
   "display_name": "Python 3.10.6 ('venv': venv)",
   "language": "python",
   "name": "python3"
  },
  "language_info": {
   "codemirror_mode": {
    "name": "ipython",
    "version": 3
   },
   "file_extension": ".py",
   "mimetype": "text/x-python",
   "name": "python",
   "nbconvert_exporter": "python",
   "pygments_lexer": "ipython3",
   "version": "3.10.6"
  },
  "orig_nbformat": 4,
  "vscode": {
   "interpreter": {
    "hash": "d7778e074d471e262d3410049dd42331c70c7b6c1795f96e771616c8504ec954"
   }
  }
 },
 "nbformat": 4,
 "nbformat_minor": 2
}
