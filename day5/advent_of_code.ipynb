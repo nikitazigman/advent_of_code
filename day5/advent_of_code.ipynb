{
 "cells": [
  {
   "cell_type": "code",
   "execution_count": null,
   "metadata": {},
   "outputs": [],
   "source": [
    "from pathlib import Path\n",
    "\n",
    "file = Path(__name__).resolve().parent.joinpath(\"stack.txt\")\n",
    "\n",
    "raw_stack = []\n",
    "with open(file, \"r\") as f:\n",
    "    raw_stack = f.read()\n",
    "raw_stack: tuple[str] = tuple(raw_stack.split(\"\\n\"))\n",
    "\n",
    "docks = raw_stack[-1].split()\n",
    "indexes = [raw_stack[-1].find(dock) for dock in docks]\n",
    "\n",
    "stack: dict[int, list[str]] = {int(idx): [] for idx in docks}\n",
    "\n",
    "for line in raw_stack[:-1][::-1]:\n",
    "    for i, idx in enumerate(indexes):\n",
    "        crate = line[idx]\n",
    "        if crate != \" \":\n",
    "            stack[int(docks[i])].append(crate)\n"
   ]
  },
  {
   "cell_type": "code",
   "execution_count": null,
   "metadata": {},
   "outputs": [],
   "source": [
    "from pathlib import Path\n",
    "\n",
    "file = Path(__name__).resolve().parent.joinpath(\"input.txt\")\n",
    "\n",
    "commands = []\n",
    "with open(file, \"r\") as f:\n",
    "    commands = f.read()\n",
    "commands: tuple[str] = tuple(commands.split(\"\\n\"))"
   ]
  },
  {
   "cell_type": "code",
   "execution_count": null,
   "metadata": {},
   "outputs": [],
   "source": [
    "import re\n",
    "\n",
    "def get_command(command_line: str)-> list[int]:\n",
    "    return [int(i) for i in re.findall(\"[0-9]+\", command_line)]"
   ]
  },
  {
   "cell_type": "code",
   "execution_count": null,
   "metadata": {},
   "outputs": [],
   "source": [
    "from copy import deepcopy\n",
    "\n",
    "import json \n",
    "test_stack = deepcopy(stack)\n",
    "for command in commands:\n",
    "    crate_n, source_dock, dest_dock = get_command(command)\n",
    "    for _ in range(crate_n):\n",
    "        test_stack[dest_dock].append(test_stack[source_dock].pop())"
   ]
  },
  {
   "cell_type": "code",
   "execution_count": 101,
   "metadata": {},
   "outputs": [],
   "source": [
    "from copy import deepcopy\n",
    "\n",
    "import json \n",
    "test_stack = deepcopy(stack)\n",
    "for command in commands:\n",
    "    crate_n, source_dock, dest_dock = get_command(command)\n",
    "    test_stack[dest_dock].extend(test_stack[source_dock][-crate_n:])  \n",
    "    del test_stack[source_dock][-crate_n:]  "
   ]
  },
  {
   "cell_type": "code",
   "execution_count": 102,
   "metadata": {},
   "outputs": [
    {
     "data": {
      "text/plain": [
       "'GGGGGGGGG'"
      ]
     },
     "execution_count": 102,
     "metadata": {},
     "output_type": "execute_result"
    }
   ],
   "source": [
    "result = []\n",
    "for i in range(1,10):\n",
    "    result.append(test_stack[i][-1])\n",
    "    \n",
    "\"\".join(result)"
   ]
  },
  {
   "cell_type": "code",
   "execution_count": 109,
   "metadata": {},
   "outputs": [
    {
     "data": {
      "text/plain": [
       "4"
      ]
     },
     "execution_count": 109,
     "metadata": {},
     "output_type": "execute_result"
    }
   ],
   "source": [
    "a = [1,2,3]\n",
    "b = [4,5,6]\n",
    "b.pop(-3)"
   ]
  }
 ],
 "metadata": {
  "kernelspec": {
   "display_name": "Python 3.10.6 ('venv': venv)",
   "language": "python",
   "name": "python3"
  },
  "language_info": {
   "codemirror_mode": {
    "name": "ipython",
    "version": 3
   },
   "file_extension": ".py",
   "mimetype": "text/x-python",
   "name": "python",
   "nbconvert_exporter": "python",
   "pygments_lexer": "ipython3",
   "version": "3.10.6"
  },
  "orig_nbformat": 4,
  "vscode": {
   "interpreter": {
    "hash": "1962a284e9c93543513960a5fc8c9acca9f2fc01827941555af93a8c649114d2"
   }
  }
 },
 "nbformat": 4,
 "nbformat_minor": 2
}
