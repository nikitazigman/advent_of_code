{
 "cells": [
  {
   "cell_type": "code",
   "execution_count": 5,
   "metadata": {},
   "outputs": [],
   "source": [
    "from pathlib import Path\n",
    "\n",
    "file = Path(__name__).resolve().parent.joinpath(\"test_input.txt\")\n",
    "\n",
    "data = []\n",
    "with open(file, \"r\") as f:\n",
    "    data = f.read()\n",
    "\n",
    "data = data.split(\"\\n\")"
   ]
  },
  {
   "cell_type": "markdown",
   "metadata": {},
   "source": [
    "```python \n",
    "- / (dir)\n",
    "  - a (dir)\n",
    "    - e (dir)\n",
    "      - i (file, size=584)\n",
    "    - f (file, size=29116)\n",
    "    - g (file, size=2557)\n",
    "    - h.lst (file, size=62596)\n",
    "  - b.txt (file, size=14848514)\n",
    "  - c.dat (file, size=8504156)\n",
    "  - d (dir)\n",
    "    - j (file, size=4060174)\n",
    "    - d.log (file, size=8033020)\n",
    "    - d.ext (file, size=5626152)\n",
    "    - k (file, size=7214296)\n",
    "```"
   ]
  },
  {
   "cell_type": "code",
   "execution_count": 10,
   "metadata": {},
   "outputs": [],
   "source": [
    "def folder_size(files: list[str]) -> int:\n",
    "    size = 0\n",
    "    for file in files:\n",
    "        size += int(file.split()[0])\n",
    "    \n",
    "    return size\n",
    "\n",
    "def get_files(commands: list[str])-> list[str]:\n",
    "    files = []\n",
    "    for command in commands:\n",
    "        if \"$\" in command:\n",
    "            return files\n",
    "        if \"dir\" not in command:\n",
    "            files.append(command)\n",
    "    \n",
    "    return files"
   ]
  },
  {
   "cell_type": "code",
   "execution_count": 15,
   "metadata": {},
   "outputs": [
    {
     "data": {
      "text/plain": [
       "['29116 f', '2557 g', '62596 h.lst']"
      ]
     },
     "execution_count": 15,
     "metadata": {},
     "output_type": "execute_result"
    }
   ],
   "source": [
    "structure: dict[str, int] = {}\n",
    "folder_name: list[str] = []\n",
    "\n",
    "commands_len = len(data) - 1\n",
    "command_idx = 0\n",
    "\n",
    "while command_idx < commands_len:\n",
    "    command = data[command_idx]\n",
    "    command_idx +=1 \n",
    "    \n",
    "    if \"cd\" in command:\n",
    "        cd_data= command.split()[-1]\n",
    "        \n",
    "        if \"..\" in cd_data:\n",
    "            folder_name.pop()\n",
    "        else:\n",
    "            folder_name.append(cd_data)\n",
    "        \n",
    "    if \"ls\" in command:\n",
    "        ..."
   ]
  }
 ],
 "metadata": {
  "kernelspec": {
   "display_name": "Python 3.10.6 ('venv': venv)",
   "language": "python",
   "name": "python3"
  },
  "language_info": {
   "codemirror_mode": {
    "name": "ipython",
    "version": 3
   },
   "file_extension": ".py",
   "mimetype": "text/x-python",
   "name": "python",
   "nbconvert_exporter": "python",
   "pygments_lexer": "ipython3",
   "version": "3.10.6"
  },
  "orig_nbformat": 4,
  "vscode": {
   "interpreter": {
    "hash": "1962a284e9c93543513960a5fc8c9acca9f2fc01827941555af93a8c649114d2"
   }
  }
 },
 "nbformat": 4,
 "nbformat_minor": 2
}
