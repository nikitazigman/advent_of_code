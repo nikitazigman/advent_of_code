{
 "cells": [
  {
   "cell_type": "code",
   "execution_count": 40,
   "metadata": {},
   "outputs": [],
   "source": [
    "from pathlib import Path\n",
    "\n",
    "file = Path(__name__).resolve().parent.joinpath(\"input.txt\")\n",
    "\n",
    "data = []\n",
    "with open(file, \"r\") as f:\n",
    "    data = f.read()\n",
    "\n",
    "data = data.split(\"\\n\")"
   ]
  },
  {
   "cell_type": "markdown",
   "metadata": {},
   "source": [
    "```python \n",
    "- / (dir)\n",
    "  - a (dir)\n",
    "    - e (dir)\n",
    "      - i (file, size=584)\n",
    "    - f (file, size=29116)\n",
    "    - g (file, size=2557)\n",
    "    - h.lst (file, size=62596)\n",
    "  - b.txt (file, size=14848514)\n",
    "  - c.dat (file, size=8504156)\n",
    "  - d (dir)\n",
    "    - j (file, size=4060174)\n",
    "    - d.log (file, size=8033020)\n",
    "    - d.ext (file, size=5626152)\n",
    "    - k (file, size=7214296)\n",
    "```"
   ]
  },
  {
   "cell_type": "code",
   "execution_count": 10,
   "metadata": {},
   "outputs": [],
   "source": [
    "def folder_size(files: list[str]) -> int:\n",
    "    size = 0\n",
    "    for file in files:\n",
    "        size += int(file.split()[0])\n",
    "    \n",
    "    return size\n",
    "\n",
    "def get_files(commands: list[str])-> list[str]:\n",
    "    files = []\n",
    "    for command in commands:\n",
    "        if \"$\" in command:\n",
    "            return files\n",
    "        if \"dir\" not in command:\n",
    "            files.append(command)\n",
    "    \n",
    "    return files"
   ]
  },
  {
   "cell_type": "code",
   "execution_count": 15,
   "metadata": {},
   "outputs": [
    {
     "data": {
      "text/plain": [
       "['29116 f', '2557 g', '62596 h.lst']"
      ]
     },
     "execution_count": 15,
     "metadata": {},
     "output_type": "execute_result"
    }
   ],
   "source": [
    "structure: dict[str, int] = {}\n",
    "folder_name: list[str] = []\n",
    "\n",
    "commands_len = len(data) - 1\n",
    "command_idx = 0\n",
    "\n",
    "while command_idx < commands_len:\n",
    "    command = data[command_idx]\n",
    "    command_idx +=1 \n",
    "    \n",
    "    if \"cd\" in command:\n",
    "        cd_data= command.split()[-1]\n",
    "        \n",
    "        if \"..\" in cd_data:\n",
    "            folder_name.pop()\n",
    "        else:\n",
    "            folder_name.append(cd_data)\n",
    "        \n",
    "    if \"ls\" in command:\n",
    "        ..."
   ]
  },
  {
   "cell_type": "code",
   "execution_count": 45,
   "metadata": {},
   "outputs": [],
   "source": [
    "def folder_size(structure:dict[str, int], folder_name: str, commands: list[str]) -> tuple[int, int]:\n",
    "    structure[folder_name] = 0\n",
    "    \n",
    "    command_idx = 0\n",
    "\n",
    "    while command_idx < len(commands):\n",
    "        command = commands[command_idx]\n",
    "        command_idx += 1\n",
    "        \n",
    "        if \"dir \" in command:\n",
    "            continue\n",
    "        \n",
    "        if \"$ ls\" in command:\n",
    "            continue\n",
    "        \n",
    "        if \"..\" in command:\n",
    "            break \n",
    "        \n",
    "        if \"$ cd\" in command:\n",
    "            name = command.split()[-1]\n",
    "            size, idx = folder_size(structure, f\"{folder_name}/{name}\", commands[command_idx:])\n",
    "            structure[folder_name] += size\n",
    "            command_idx += idx\n",
    "            continue\n",
    "            \n",
    "        structure[folder_name] += int(command.split()[0])\n",
    "    \n",
    "    return structure[folder_name], command_idx"
   ]
  },
  {
   "cell_type": "code",
   "execution_count": 46,
   "metadata": {},
   "outputs": [
    {
     "data": {
      "text/plain": [
       "{'/': 45349983,\n",
       " '//bgmjrlz': 1605767,\n",
       " '//bgmjrlz/dhqzgdl': 739644,\n",
       " '//bgmjrlz/dhqzgdl/jjshzrhd': 81645,\n",
       " '//bgmjrlz/dhqzgdl/jjshzrhd/jjshzrhd': 81645,\n",
       " '//bgmjrlz/dhqzgdl/jlfz': 311030,\n",
       " '//bgmjrlz/dhqzgdl/jlfz/hgzg': 121740,\n",
       " '//bgmjrlz/dhqzgdl/vqvvwgt': 142209,\n",
       " '//bgmjrlz/dhqzgdl/zcqbt': 204760,\n",
       " '//bgmjrlz/djtchhmw': 595254,\n",
       " '//bgmjrlz/tvq': 270869,\n",
       " '//bhp': 11009061,\n",
       " '//bhp/mps': 1159574,\n",
       " '//bhp/mps/djtchhmw': 821412,\n",
       " '//bhp/sjt': 8901103,\n",
       " '//bhp/sjt/btgrv': 205285,\n",
       " '//bhp/sjt/btgrv/rnhq': 205285,\n",
       " '//bhp/sjt/csn': 234221,\n",
       " '//bhp/sjt/ddhfvv': 2484516,\n",
       " '//bhp/sjt/ddhfvv/glbf': 469268,\n",
       " '//bhp/sjt/ddhfvv/qtc': 292185,\n",
       " '//bhp/sjt/ddhfvv/vlrs': 807582,\n",
       " '//bhp/sjt/ddhfvv/vlrs/btgrv': 540011,\n",
       " '//bhp/sjt/ddhfvv/vlrs/jlbjlzzs': 95245,\n",
       " '//bhp/sjt/ddhfvv/vlrs/lnqcr': 172326,\n",
       " '//bhp/sjt/ddhfvv/vzhm': 203623,\n",
       " '//bhp/sjt/ddhfvv/wwghpsds': 60280,\n",
       " '//bhp/sjt/dfbjz': 682342,\n",
       " '//bhp/sjt/djtchhmw': 278654,\n",
       " '//bhp/sjt/qdms': 966931,\n",
       " '//bhp/sjt/qdms/djtchhmw': 246903,\n",
       " '//bhp/sjt/qdms/sgh': 565492,\n",
       " '//bhp/sjt/rdqbdtdh': 3768336,\n",
       " '//bhp/sjt/rdqbdtdh/btgrv': 1551848,\n",
       " '//bhp/sjt/rdqbdtdh/btgrv/btgrv': 1481370,\n",
       " '//bhp/sjt/rdqbdtdh/btgrv/btgrv/czgrcv': 724936,\n",
       " '//bhp/sjt/rdqbdtdh/btgrv/btgrv/mfhbd': 67713,\n",
       " '//bhp/sjt/rdqbdtdh/djtchhmw': 1347896,\n",
       " '//bhp/sjt/rdqbdtdh/djtchhmw/fvhmzqc': 423973,\n",
       " '//bhp/sjt/rdqbdtdh/djtchhmw/fvhmzqc/bjpvn': 126911,\n",
       " '//bhp/sjt/rdqbdtdh/djtchhmw/jmqwll': 240811,\n",
       " '//bhp/sjt/rdqbdtdh/jmc': 477057,\n",
       " '//bhp/zvbwsw': 169680,\n",
       " '//bhp/zvbwsw/fvhmzqc': 169680,\n",
       " '//cbcwz': 82379,\n",
       " '//fvhmzqc': 15230886,\n",
       " '//fvhmzqc/hvnt': 1204896,\n",
       " '//fvhmzqc/hvnt/rmrc': 499558,\n",
       " '//fvhmzqc/hvnt/rmrc/btgrv': 240410,\n",
       " '//fvhmzqc/jbc': 140479,\n",
       " '//fvhmzqc/mzzfssn': 420229,\n",
       " '//fvhmzqc/npdccs': 65889,\n",
       " '//fvhmzqc/wrzzq': 13258822,\n",
       " '//fvhmzqc/wrzzq/btgrv': 4004103,\n",
       " '//fvhmzqc/wrzzq/btgrv/dppvz': 308129,\n",
       " '//fvhmzqc/wrzzq/btgrv/glmtpswv': 3468031,\n",
       " '//fvhmzqc/wrzzq/btgrv/glmtpswv/jjshzrhd': 2487762,\n",
       " '//fvhmzqc/wrzzq/btgrv/glmtpswv/jjshzrhd/cwdwh': 1874474,\n",
       " '//fvhmzqc/wrzzq/btgrv/glmtpswv/jjshzrhd/cwdwh/btgrv': 74389,\n",
       " '//fvhmzqc/wrzzq/btgrv/glmtpswv/jjshzrhd/cwdwh/hnp': 642552,\n",
       " '//fvhmzqc/wrzzq/btgrv/glmtpswv/jjshzrhd/tfzp': 214509,\n",
       " '//fvhmzqc/wrzzq/btgrv/glmtpswv/lqnb': 473296,\n",
       " '//fvhmzqc/wrzzq/btgrv/qfgqfzm': 212359,\n",
       " '//fvhmzqc/wrzzq/btgrv/qhb': 15584,\n",
       " '//fvhmzqc/wrzzq/dzzv': 141830,\n",
       " '//fvhmzqc/wrzzq/lpz': 3055475,\n",
       " '//fvhmzqc/wrzzq/lpz/djtchhmw': 2854756,\n",
       " '//fvhmzqc/wrzzq/lpz/djtchhmw/fvhmzqc': 500030,\n",
       " '//fvhmzqc/wrzzq/lpz/djtchhmw/jjshzrhd': 190311,\n",
       " '//fvhmzqc/wrzzq/lpz/djtchhmw/qpc': 359690,\n",
       " '//fvhmzqc/wrzzq/lpz/djtchhmw/svmmjlr': 418288,\n",
       " '//fvhmzqc/wrzzq/lpz/djtchhmw/tddmdzd': 536096,\n",
       " '//fvhmzqc/wrzzq/lpz/djtchhmw/tddmdzd/cjfjmjnh': 290841,\n",
       " '//fvhmzqc/wrzzq/lpz/djtchhmw/tddmdzd/cjfjmjnh/gcs': 290841,\n",
       " '//fvhmzqc/wrzzq/lpz/djtchhmw/tddmdzd/fjwwn': 17068,\n",
       " '//fvhmzqc/wrzzq/lpz/pbcrz': 186040,\n",
       " '//fvhmzqc/wrzzq/mqqlhnvh': 5974547,\n",
       " '//fvhmzqc/wrzzq/mqqlhnvh/bmcqbq': 402278,\n",
       " '//fvhmzqc/wrzzq/mqqlhnvh/bmcqbq/bwjhtvcm': 156583,\n",
       " '//fvhmzqc/wrzzq/mqqlhnvh/bmcqbq/wzmg': 245695,\n",
       " '//fvhmzqc/wrzzq/mqqlhnvh/bmcqbq/wzmg/ddhfvv': 202499,\n",
       " '//fvhmzqc/wrzzq/mqqlhnvh/bmcqbq/wzmg/ddhfvv/jjshzrhd': 202499,\n",
       " '//fvhmzqc/wrzzq/mqqlhnvh/bmcqbq/wzmg/tlhc': 43196,\n",
       " '//fvhmzqc/wrzzq/mqqlhnvh/bmcqbq/wzmg/tlhc/lbpmtft': 43196,\n",
       " '//fvhmzqc/wrzzq/mqqlhnvh/cqh': 1074927,\n",
       " '//fvhmzqc/wrzzq/mqqlhnvh/cqh/btgrv': 358167,\n",
       " '//fvhmzqc/wrzzq/mqqlhnvh/cqh/btgrv/hrbjmbf': 196766,\n",
       " '//fvhmzqc/wrzzq/mqqlhnvh/cqh/btgrv/npffrswd': 161401,\n",
       " '//fvhmzqc/wrzzq/mqqlhnvh/cqh/btgrv/npffrswd/jjshzrhd': 161401,\n",
       " '//fvhmzqc/wrzzq/mqqlhnvh/cqh/vwdqmtwf': 299604,\n",
       " '//fvhmzqc/wrzzq/mqqlhnvh/jjshzrhd': 317689,\n",
       " '//fvhmzqc/wrzzq/mqqlhnvh/lbvrm': 2198052,\n",
       " '//fvhmzqc/wrzzq/mqqlhnvh/lbvrm/btgrv': 115711,\n",
       " '//fvhmzqc/wrzzq/mqqlhnvh/lbvrm/btgrv/qjbhvdm': 115711,\n",
       " '//fvhmzqc/wrzzq/mqqlhnvh/lbvrm/pvnbdwjj': 496994,\n",
       " '//fvhmzqc/wrzzq/mqqlhnvh/lbvrm/pvnbdwjj/jjshzrhd': 131751,\n",
       " '//fvhmzqc/wrzzq/mqqlhnvh/lbvrm/znz': 1247966,\n",
       " '//fvhmzqc/wrzzq/mqqlhnvh/lbvrm/znz/ddhfvv': 265355,\n",
       " '//fvhmzqc/wrzzq/mqqlhnvh/lbvrm/znz/pwtbr': 212361,\n",
       " '//fvhmzqc/wrzzq/mqqlhnvh/lwmbvsjj': 1850695,\n",
       " '//fvhmzqc/wrzzq/mqqlhnvh/lwmbvsjj/ddhfvv': 244640,\n",
       " '//fvhmzqc/wrzzq/mqqlhnvh/lwmbvsjj/vrqmtl': 535160,\n",
       " '//fvhmzqc/wrzzq/mqqlhnvh/rrcnhbn': 63581,\n",
       " '//fvhmzqc/wrzzq/mqqlhnvh/rrcnhbn/jjshzrhd': 63581,\n",
       " '//hqmlnpn': 8271275,\n",
       " '//hqmlnpn/djtchhmw': 33004,\n",
       " '//hqmlnpn/dlqjbqbr': 4501304,\n",
       " '//hqmlnpn/dlqjbqbr/fvhmzqc': 2121044,\n",
       " '//hqmlnpn/dlqjbqbr/fvhmzqc/brfl': 927445,\n",
       " '//hqmlnpn/dlqjbqbr/fvhmzqc/ccnlzrb': 265088,\n",
       " '//hqmlnpn/dlqjbqbr/fvhmzqc/ccnlzrb/rzmdmq': 265088,\n",
       " '//hqmlnpn/dlqjbqbr/fvhmzqc/cjtl': 107485,\n",
       " '//hqmlnpn/dlqjbqbr/fvhmzqc/dfvt': 315222,\n",
       " '//hqmlnpn/dlqjbqbr/fvhmzqc/ppshjv': 305733,\n",
       " '//hqmlnpn/dlqjbqbr/fvhmzqc/smprwhmg': 76792,\n",
       " '//hqmlnpn/dlqjbqbr/jjshzrhd': 1604173,\n",
       " '//hqmlnpn/dlqjbqbr/jjshzrhd/lqgsw': 297439,\n",
       " '//hqmlnpn/dlqjbqbr/jjshzrhd/lsmccpj': 1269504,\n",
       " '//hqmlnpn/dlqjbqbr/jjshzrhd/lsmccpj/gclrgz': 219951,\n",
       " '//hqmlnpn/dlqjbqbr/jjshzrhd/lsmccpj/gnrztgj': 311010,\n",
       " '//hqmlnpn/dlqjbqbr/ncwldt': 70881,\n",
       " '//hqmlnpn/dlqjbqbr/wfw': 705206,\n",
       " '//hqmlnpn/fvhmzqc': 903167,\n",
       " '//hqmlnpn/fvhmzqc/fvhmzqc': 208299,\n",
       " '//hqmlnpn/fvhmzqc/jsfbvwb': 262410,\n",
       " '//hqmlnpn/nppp': 223933,\n",
       " '//hqmlnpn/rscgvrdt': 207388,\n",
       " '//hqmlnpn/sdcbr': 1575719,\n",
       " '//hqmlnpn/sdcbr/frcj': 243121,\n",
       " '//hqmlnpn/sdcbr/tcwpvrr': 456973,\n",
       " '//hqmlnpn/sdcbr/tcwpvrr/ltwvvrv': 102472,\n",
       " '//rbztmqjn': 216106,\n",
       " '//vfrtt': 7994296,\n",
       " '//vfrtt/ddhfvv': 2498282,\n",
       " '//vfrtt/ddhfvv/lwblgr': 802772,\n",
       " '//vfrtt/ddhfvv/qmc': 390336,\n",
       " '//vfrtt/ddhfvv/thwccb': 49107,\n",
       " '//vfrtt/ddhfvv/thwccb/ddhfvv': 49107,\n",
       " '//vfrtt/ddhfvv/tmlwvtmc': 723876,\n",
       " '//vfrtt/ddhfvv/tmlwvtmc/djtchhmw': 360169,\n",
       " '//vfrtt/ddhfvv/tmlwvtmc/djtchhmw/tzbd': 278463,\n",
       " '//vfrtt/ftrqt': 275920,\n",
       " '//vfrtt/fvhmzqc': 161318,\n",
       " '//vfrtt/jjshzrhd': 391439,\n",
       " '//vfrtt/jjshzrhd/wltvrv': 299813,\n",
       " '//vfrtt/mzfq': 301507,\n",
       " '//vfrtt/nhzz': 436014,\n",
       " '//vfrtt/zblsznh': 3743735,\n",
       " '//vfrtt/zblsznh/fvhmzqc': 2364467,\n",
       " '//vfrtt/zblsznh/fvhmzqc/djtchhmw': 91244,\n",
       " '//vfrtt/zblsznh/fvhmzqc/djtchhmw/sdrjlqqm': 91244,\n",
       " '//vfrtt/zblsznh/fvhmzqc/fsqdcwr': 512964,\n",
       " '//vfrtt/zblsznh/fvhmzqc/fsqdcwr/ddhfvv': 199548,\n",
       " '//vfrtt/zblsznh/fvhmzqc/fsqdcwr/nhmhgzt': 106393,\n",
       " '//vfrtt/zblsznh/fvhmzqc/fsqdcwr/pdhbd': 207023,\n",
       " '//vfrtt/zblsznh/fvhmzqc/jjshzrhd': 84955,\n",
       " '//vfrtt/zblsznh/fvhmzqc/zljhz': 1675304,\n",
       " '//vfrtt/zblsznh/fvhmzqc/zljhz/dmqmc': 166369,\n",
       " '//vfrtt/zblsznh/fvhmzqc/zljhz/dmqmc/djtchhmw': 166369,\n",
       " '//vfrtt/zblsznh/fvhmzqc/zljhz/jnlgsgn': 289581,\n",
       " '//vfrtt/zblsznh/fvhmzqc/zljhz/mhtmt': 467550,\n",
       " '//vfrtt/zblsznh/fvhmzqc/zljhz/mqtmpht': 751804,\n",
       " '//vfrtt/zblsznh/fvhmzqc/zljhz/mqtmpht/czqj': 69494,\n",
       " '//vfrtt/zblsznh/fvhmzqc/zljhz/mqtmpht/gdc': 84423,\n",
       " '//vfrtt/zblsznh/tdpv': 740354,\n",
       " '//vfrtt/zblsznh/tdpv/frgfgd': 205662,\n",
       " '//vfrtt/zblsznh/tdpv/sggm': 260269}"
      ]
     },
     "execution_count": 46,
     "metadata": {},
     "output_type": "execute_result"
    }
   ],
   "source": [
    "structure = {}\n",
    "name = data[0].split()[-1]\n",
    "total_size, idx = folder_size(structure, name, data[1:])\n",
    "\n",
    "structure"
   ]
  },
  {
   "cell_type": "code",
   "execution_count": 47,
   "metadata": {},
   "outputs": [
    {
     "data": {
      "text/plain": [
       "1555642"
      ]
     },
     "execution_count": 47,
     "metadata": {},
     "output_type": "execute_result"
    }
   ],
   "source": [
    "total_size = 0\n",
    "\n",
    "for size in structure.values():\n",
    "    if size <= 100000:\n",
    "        total_size +=size\n",
    "\n",
    "total_size"
   ]
  },
  {
   "cell_type": "code",
   "execution_count": 57,
   "metadata": {},
   "outputs": [],
   "source": [
    "empty_space = 70000000 - structure[\"/\"]\n",
    "needed_space = 30000000 - empty_space\n",
    "name = \"/\"\n",
    "\n",
    "for folder, size in structure.items():\n",
    "    if size < needed_space:\n",
    "        continue\n",
    "     \n",
    "    if size < structure[name]:\n",
    "        name = folder"
   ]
  },
  {
   "cell_type": "code",
   "execution_count": 56,
   "metadata": {},
   "outputs": [
    {
     "data": {
      "text/plain": [
       "(45349983, 24650017)"
      ]
     },
     "execution_count": 56,
     "metadata": {},
     "output_type": "execute_result"
    }
   ],
   "source": [
    "structure[name], empty_space"
   ]
  }
 ],
 "metadata": {
  "kernelspec": {
   "display_name": "Python 3.10.6 ('venv': venv)",
   "language": "python",
   "name": "python3"
  },
  "language_info": {
   "codemirror_mode": {
    "name": "ipython",
    "version": 3
   },
   "file_extension": ".py",
   "mimetype": "text/x-python",
   "name": "python",
   "nbconvert_exporter": "python",
   "pygments_lexer": "ipython3",
   "version": "3.10.6"
  },
  "orig_nbformat": 4,
  "vscode": {
   "interpreter": {
    "hash": "4aaa93cb18d810c124143320185fd5168d356519a1e700835299493192a2ba46"
   }
  }
 },
 "nbformat": 4,
 "nbformat_minor": 2
}
