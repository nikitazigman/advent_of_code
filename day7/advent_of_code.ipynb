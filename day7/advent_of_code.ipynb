{
 "cells": [
  {
   "cell_type": "code",
   "execution_count": null,
   "metadata": {},
   "outputs": [],
   "source": [
    "from pathlib import Path\n",
    "\n",
    "file = Path(__name__).resolve().parent.joinpath(\"input.txt\")\n",
    "\n",
    "data = []\n",
    "with open(file, \"r\") as f:\n",
    "    data = f.read()\n",
    "\n",
    "data = data.split(\"\\n\")"
   ]
  },
  {
   "cell_type": "code",
   "execution_count": null,
   "metadata": {},
   "outputs": [],
   "source": [
    "def folder_size(structure:dict[str, int], folder_name: str, commands: list[str]) -> tuple[int, int]:\n",
    "    structure[folder_name] = 0\n",
    "    \n",
    "    command_idx = 0\n",
    "\n",
    "    while command_idx < len(commands):\n",
    "        command = commands[command_idx]\n",
    "        command_idx += 1\n",
    "        \n",
    "        if \"dir \" in command:\n",
    "            continue\n",
    "        \n",
    "        if \"$ ls\" in command:\n",
    "            continue\n",
    "        \n",
    "        if \"..\" in command:\n",
    "            break \n",
    "        \n",
    "        if \"$ cd\" in command:\n",
    "            name = command.split()[-1]\n",
    "            size, idx = folder_size(structure, f\"{folder_name}/{name}\", commands[command_idx:])\n",
    "            structure[folder_name] += size\n",
    "            command_idx += idx\n",
    "            continue\n",
    "            \n",
    "        structure[folder_name] += int(command.split()[0])\n",
    "    \n",
    "    return structure[folder_name], command_idx"
   ]
  },
  {
   "cell_type": "code",
   "execution_count": null,
   "metadata": {},
   "outputs": [],
   "source": [
    "structure = {}\n",
    "name = data[0].split()[-1]\n",
    "total_size, idx = folder_size(structure, name, data[1:])\n",
    "\n",
    "structure"
   ]
  },
  {
   "cell_type": "code",
   "execution_count": null,
   "metadata": {},
   "outputs": [],
   "source": [
    "total_size = 0\n",
    "\n",
    "for size in structure.values():\n",
    "    if size <= 100000:\n",
    "        total_size +=size\n",
    "\n",
    "total_size"
   ]
  },
  {
   "cell_type": "code",
   "execution_count": null,
   "metadata": {},
   "outputs": [],
   "source": [
    "empty_space = 70000000 - structure[\"/\"]\n",
    "needed_space = 30000000 - empty_space\n",
    "name = \"/\"\n",
    "\n",
    "for folder, size in structure.items():\n",
    "    if size < needed_space:\n",
    "        continue\n",
    "     \n",
    "    if size < structure[name]:\n",
    "        name = folder"
   ]
  },
  {
   "cell_type": "code",
   "execution_count": null,
   "metadata": {},
   "outputs": [],
   "source": [
    "structure[name], needed_space"
   ]
  }
 ],
 "metadata": {
  "kernelspec": {
   "display_name": "Python 3.10.6 ('venv': venv)",
   "language": "python",
   "name": "python3"
  },
  "language_info": {
   "codemirror_mode": {
    "name": "ipython",
    "version": 3
   },
   "file_extension": ".py",
   "mimetype": "text/x-python",
   "name": "python",
   "nbconvert_exporter": "python",
   "pygments_lexer": "ipython3",
   "version": "3.10.6"
  },
  "orig_nbformat": 4,
  "vscode": {
   "interpreter": {
    "hash": "4aaa93cb18d810c124143320185fd5168d356519a1e700835299493192a2ba46"
   }
  }
 },
 "nbformat": 4,
 "nbformat_minor": 2
}
