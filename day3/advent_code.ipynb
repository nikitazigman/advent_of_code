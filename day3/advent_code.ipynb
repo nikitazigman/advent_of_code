{
 "cells": [
  {
   "cell_type": "code",
   "execution_count": 42,
   "metadata": {},
   "outputs": [],
   "source": [
    "from pathlib import Path\n",
    "\n",
    "input_file = Path(__name__).resolve().parent.joinpath(\"input.txt\")\n",
    "\n",
    "data = []\n",
    "with open(input_file, \"r\") as f:\n",
    "    data = f.read()\n",
    "    \n",
    "data = tuple(data.split(\"\\n\"))"
   ]
  },
  {
   "cell_type": "code",
   "execution_count": null,
   "metadata": {},
   "outputs": [],
   "source": [
    "wrong_items = []\n",
    "for rucksack in data: \n",
    "    divider = int(len(rucksack) / 2)\n",
    "    compartment_1, compartment_2 = set(rucksack[:divider]), set(rucksack[divider:])\n",
    "    wrong_items.append((compartment_2 & compartment_1).pop())\n",
    "   \n",
    "priorities = []\n",
    "\n",
    "for badge in wrong_items:\n",
    "    if badge.islower():\n",
    "        priorities.append(ord(badge)-96)\n",
    "    else: \n",
    "        priorities.append(ord(badge)-38)\n",
    "\n",
    "prior_sum = sum(priorities)    "
   ]
  },
  {
   "cell_type": "code",
   "execution_count": 44,
   "metadata": {},
   "outputs": [],
   "source": [
    "badges = []\n",
    "for group in range(0, len(data), 3): \n",
    "    badge = set(data[group]) & set(data[group+1]) & set(data[group+2])\n",
    "    badges.append(badge.pop())\n",
    "   \n",
    "priorities = []\n",
    "for badge in badges:\n",
    "    if badge.islower():\n",
    "        priorities.append(ord(badge)-96)\n",
    "    else: \n",
    "        priorities.append(ord(badge)-38)\n",
    "\n",
    "prior_sum = sum(priorities)   "
   ]
  },
  {
   "cell_type": "code",
   "execution_count": 46,
   "metadata": {},
   "outputs": [
    {
     "data": {
      "text/plain": [
       "2650"
      ]
     },
     "execution_count": 46,
     "metadata": {},
     "output_type": "execute_result"
    }
   ],
   "source": [
    "prior_sum"
   ]
  },
  {
   "cell_type": "code",
   "execution_count": 45,
   "metadata": {},
   "outputs": [
    {
     "name": "stdout",
     "output_type": "stream",
     "text": [
      "F:32\n",
      "L:38\n",
      "s:19\n",
      "t:20\n",
      "p:16\n",
      "D:30\n",
      "N:40\n",
      "m:13\n",
      "b:2\n",
      "g:7\n",
      "q:17\n",
      "V:48\n",
      "L:38\n",
      "T:46\n",
      "d:4\n",
      "D:30\n",
      "G:33\n",
      "M:39\n",
      "T:46\n",
      "m:13\n",
      "m:13\n",
      "s:19\n",
      "c:3\n",
      "l:12\n",
      "L:38\n",
      "N:40\n",
      "W:49\n",
      "n:14\n",
      "j:10\n",
      "G:33\n",
      "W:49\n",
      "n:14\n",
      "w:23\n",
      "l:12\n",
      "G:33\n",
      "C:29\n",
      "J:36\n",
      "L:38\n",
      "q:17\n",
      "s:19\n",
      "b:2\n",
      "h:8\n",
      "j:10\n",
      "w:23\n",
      "V:48\n",
      "s:19\n",
      "D:30\n",
      "J:36\n",
      "T:46\n",
      "b:2\n",
      "h:8\n",
      "Z:52\n",
      "V:48\n",
      "Q:43\n",
      "f:6\n",
      "l:12\n",
      "Z:52\n",
      "g:7\n",
      "p:16\n",
      "D:30\n",
      "h:8\n",
      "J:36\n",
      "Z:52\n",
      "B:28\n",
      "C:29\n",
      "W:49\n",
      "f:6\n",
      "j:10\n",
      "l:12\n",
      "n:14\n",
      "z:26\n",
      "S:45\n",
      "p:16\n",
      "q:17\n",
      "V:48\n",
      "M:39\n",
      "c:3\n",
      "s:19\n",
      "W:49\n",
      "b:2\n",
      "V:48\n",
      "m:13\n",
      "G:33\n",
      "R:44\n",
      "M:39\n",
      "R:44\n",
      "g:7\n",
      "T:46\n",
      "f:6\n",
      "Q:43\n",
      "p:16\n",
      "L:38\n",
      "s:19\n",
      "m:13\n",
      "z:26\n",
      "T:46\n",
      "G:33\n",
      "F:32\n",
      "H:34\n",
      "F:32\n"
     ]
    }
   ],
   "source": [
    "for i, p in zip (badges, priorities):\n",
    "    print(f\"{i}:{p}\")"
   ]
  }
 ],
 "metadata": {
  "kernelspec": {
   "display_name": "Python 3.10.6 ('venv': venv)",
   "language": "python",
   "name": "python3"
  },
  "language_info": {
   "codemirror_mode": {
    "name": "ipython",
    "version": 3
   },
   "file_extension": ".py",
   "mimetype": "text/x-python",
   "name": "python",
   "nbconvert_exporter": "python",
   "pygments_lexer": "ipython3",
   "version": "3.10.6"
  },
  "orig_nbformat": 4,
  "vscode": {
   "interpreter": {
    "hash": "fab0783485e1e83172627bfa795ff4be6a536e0ed8f9789e2ce5889e14af79bc"
   }
  }
 },
 "nbformat": 4,
 "nbformat_minor": 2
}
